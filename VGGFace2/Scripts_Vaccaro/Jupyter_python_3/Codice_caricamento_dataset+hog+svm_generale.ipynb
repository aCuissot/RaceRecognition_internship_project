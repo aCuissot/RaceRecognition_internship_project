{
 "cells": [
  {
   "cell_type": "code",
   "execution_count": null,
   "metadata": {},
   "outputs": [],
   "source": [
    "#Import\n",
    "\n",
    "import matplotlib.pyplot as plt\n",
    "import matplotlib as mt\n",
    "import csv\n",
    "import pickle\n",
    "import sys\n",
    "import dlib\n",
    "import cv2\n",
    "import numpy as np\n",
    "import os"
   ]
  },
  {
   "cell_type": "code",
   "execution_count": null,
   "metadata": {},
   "outputs": [],
   "source": [
    "#Leggo il file csv nomecsv.csv lo salvo in etic\n",
    "\n",
    "etic=[]\n",
    "with open('nomecsv.csv', newline='') as csvfile:\n",
    "    etichetta2 = csv.reader(csvfile, delimiter=',', quotechar='|')\n",
    "    for row in etichetta2:\n",
    "        etic.append(row)\n",
    "\n",
    "#Prendo i path relativi.\n",
    "#etic[n][2] significa che prendo la casella numero 2 della riga, ovvero il path.\n",
    "#CSV come quelli di Chalearn non hanno informazioni sul gender, quindi hanno 2 e non 3 celle per riga.\n",
    "\n",
    "filenames=[]\n",
    "leng=len(etic)\n",
    "for n in range (0,leng):\n",
    "    filenames.append(etic[n][2])"
   ]
  },
  {
   "cell_type": "code",
   "execution_count": null,
   "metadata": {},
   "outputs": [],
   "source": [
    "#Questi sono dei parametri per \"tagliare\" una immagine con margine 40%.\n",
    "\n",
    "x=51\n",
    "yy=51\n",
    "w=154\n",
    "h=154\n",
    "r = max(w, h) / 2\n",
    "centerx = x + w/ 2\n",
    "centery = yy + h/ 2\n",
    "nx = int(centerx - r)\n",
    "ny = int(centery - r)\n",
    "nr = int(r * 2)"
   ]
  },
  {
   "cell_type": "code",
   "execution_count": null,
   "metadata": {},
   "outputs": [],
   "source": [
    "#Qui creo gli hog.\n",
    "\n",
    "#Definizione dell'hog.\n",
    "hog = cv2.HOGDescriptor((128,128),(32,32),(16,16),(16,16),9)\n",
    "\n",
    "#Dei parametri di supporto\n",
    "X_hog=[]\n",
    "y=[]\n",
    "n=0\n",
    "img=None\n",
    "gray_img=None\n",
    "h=None\n",
    "hogghy=np.zeros(1764)\n",
    "\n",
    "#Ciclo il path relativo, carico l'immagine, la porto in scala di grigi, la taglio, ne faccio la resize a 128x128 e ne calcolo l'hog.\n",
    "for images in filenames:\n",
    "    img = cv2.imread(images)\n",
    "    \n",
    "    if img is not None:\n",
    "        gray_img = cv2.cvtColor(img, cv2.COLOR_BGR2GRAY)\n",
    "        faceimg = gray_img[ny:ny+nr, nx:nx+nr]\n",
    "        resized = cv2.resize(faceimg, (128, 128))\n",
    "        \n",
    "        h = hog.compute(resized)\n",
    "        \n",
    "        for i in range(0,len(h)):\n",
    "            hogghy[i]=h[i][0]\n",
    "            \n",
    "        X_hog.append(hogghy)\n",
    "        \n",
    "        #Nota che qui prendo solo il gender ( la prima cella della riga )\n",
    "        y.append(int(etic[n][0]))\n",
    "    n=n+1"
   ]
  },
  {
   "cell_type": "code",
   "execution_count": null,
   "metadata": {},
   "outputs": [],
   "source": [
    "#Salvo hog ed etichette in un file pkl .\n",
    "\n",
    "#with open(\"hog.pkl\",\"wb\") as output:\n",
    "#        pickle.dump(X_hog,output)\n",
    "#with open(\"etichetta.pkl\",\"wb\") as output:\n",
    "#    pickle.dump(y,output)"
   ]
  },
  {
   "cell_type": "code",
   "execution_count": null,
   "metadata": {},
   "outputs": [],
   "source": [
    "#Salvo i volti in un file pkl .\n",
    "\n",
    "with open(\"nomehog.pkl\",\"wb\") as output:\n",
    "        pickle.dump(X_hog,output)\n",
    "\n",
    "\n",
    "with open(\"nomeetichetta.pkl\",\"wb\") as output:\n",
    "    pickle.dump(y,output)"
   ]
  },
  {
   "cell_type": "code",
   "execution_count": null,
   "metadata": {},
   "outputs": [],
   "source": [
    "#UN ESEMPIO DI ADDESTRAMENTO CON VGG"
   ]
  },
  {
   "cell_type": "code",
   "execution_count": null,
   "metadata": {},
   "outputs": [],
   "source": [
    "#Tutti gli import\n",
    "\n",
    "import random\n",
    "import deap\n",
    "from sklearn.model_selection import StratifiedKFold\n",
    "from sklearn.model_selection import RandomizedSearchCV\n",
    "#from sklearn_deap_master.evolutionary_search import EvolutionaryAlgorithmSearchCV\n",
    "from sklearn.model_selection import cross_validate\n",
    "from sklearn.model_selection import cross_val_predict\n",
    "from sklearn.metrics import confusion_matrix \n",
    "from sklearn.metrics import accuracy_score\n",
    "from sklearn.model_selection import cross_val_score\n",
    "from sklearn import svm\n",
    "from sklearn.metrics import classification_report\n",
    "from sklearn.model_selection import train_test_split\n",
    "from sklearn.model_selection import GridSearchCV"
   ]
  },
  {
   "cell_type": "code",
   "execution_count": null,
   "metadata": {},
   "outputs": [],
   "source": [
    "#Qui leggo i pickle.\n",
    "#In Hog metto gli hog, in y le etichette.\n",
    "\n",
    "with open(\"nomehog.pkl\",\"rb\") as data:\n",
    "    Hog= pickle.load(data)\n",
    "with open(\"nomeetichetta.pkl\",\"rb\") as data:\n",
    "    y = pickle.load(data)"
   ]
  },
  {
   "cell_type": "code",
   "execution_count": null,
   "metadata": {},
   "outputs": [],
   "source": [
    "#Inizalizzo dei vettori, è una operazione non utile in questo caso\n",
    "\n",
    "X_train_hog=Hog\n",
    "\n",
    "y_train_1=np.zeros(len(y))\n",
    "k=0\n",
    "for i in range(0,len(y)):\n",
    "    y_train_1[i]=y[k]\n",
    "    k=k+1\n",
    "\n",
    "#Nel caso in cui le etichette presentano la virgola\n",
    "Y_train_1=[]\n",
    "for n in range(0,len(y_train_1)):\n",
    "    Y_train_1.append(int(y_train_1[n]))\n",
    "\n",
    "print(\"-----\")"
   ]
  },
  {
   "cell_type": "code",
   "execution_count": null,
   "metadata": {},
   "outputs": [],
   "source": [
    "#Addestro.\n",
    "\n",
    "svc = svm.SVC(kernel='linear', C=0.17782, verbose=True)\n",
    "svc.fit(X_train_hog,Y_train_1)"
   ]
  },
  {
   "cell_type": "code",
   "execution_count": null,
   "metadata": {},
   "outputs": [],
   "source": [
    "#Salvataggio in pkl del classificatore con joblib.\n",
    "from sklearn.externals import joblib\n",
    "joblib.dump(svc,'svc_vgg_linear.pkl')"
   ]
  },
  {
   "cell_type": "code",
   "execution_count": null,
   "metadata": {},
   "outputs": [],
   "source": [
    "#Calcolo dello score\n",
    "\n",
    "mscore=svc.score(X_train_hog, Y_train_1)\n",
    "print(mscore)"
   ]
  }
 ],
 "metadata": {
  "kernelspec": {
   "display_name": "Python 3",
   "language": "python",
   "name": "python3"
  },
  "language_info": {
   "codemirror_mode": {
    "name": "ipython",
    "version": 3
   },
   "file_extension": ".py",
   "mimetype": "text/x-python",
   "name": "python",
   "nbconvert_exporter": "python",
   "pygments_lexer": "ipython3",
   "version": "3.6.5"
  }
 },
 "nbformat": 4,
 "nbformat_minor": 2
}
